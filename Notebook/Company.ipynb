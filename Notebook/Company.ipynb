{
 "cells": [
  {
   "cell_type": "code",
   "execution_count": null,
   "metadata": {},
   "outputs": [],
   "source": [
    "import pandas as pd\n",
    "import io\n",
    "\n"
   ]
  },
  {
   "cell_type": "code",
   "execution_count": 5,
   "metadata": {},
   "outputs": [
    {
     "name": "stdout",
     "output_type": "stream",
     "text": [
      "                           AttendanceID                            EmployeeID  \\\n",
      "0  a8e0c35b-1fcf-4643-8d7d-bdba01ebe9af  281640af-0757-4999-9df2-d73b80caf301   \n",
      "1  d25e42db-6a17-4191-b343-908f94b0163b  5f994cb8-04c0-427c-821d-4f8b87de9a09   \n",
      "2  6b7a948a-eec5-4a56-bd4c-2d17562826ae  d38be133-c56e-4eb2-be4d-a9174f8a1379   \n",
      "3  1c77c32f-47e5-4c7e-aa28-f54c836a86a4  82a27184-2259-4fe9-8ccd-fd92f323ca8d   \n",
      "4  5df9396f-e906-4028-908f-21483943528e  a28367b6-282b-42a6-818f-059a1e7d3ecc   \n",
      "\n",
      "         Date CheckInTime CheckOutTime  HoursWorked WorkLocation  \n",
      "0  2024-07-01    09:42:44     23:50:21            6       Remote  \n",
      "1  2024-10-22    21:36:36     10:17:35            5       Remote  \n",
      "2  2024-05-22    00:53:23     10:11:02            7       Remote  \n",
      "3  2024-06-30    08:21:14     01:56:57            6       Office  \n",
      "4  2024-08-19    13:18:29     12:11:55            6       Office  \n"
     ]
    }
   ],
   "source": [
    "df_attendance = pd.read_csv(\"/Users/aiwin/Documents/Projects/aws_redshift/Data_Generation/Company_Employee_Details/attendance.csv\")\n",
    "df_employee = pd.read_csv(\"/Users/aiwin/Documents/Projects/aws_redshift/Data_Generation/Company_Employee_Details/employees.csv\")\n",
    "df_department = pd.read_csv(\"/Users/aiwin/Documents/Projects/aws_redshift/Data_Generation/Company_Employee_Details/departments.csv\")\n",
    "df_benefit = pd.read_csv(\"/Users/aiwin/Documents/Projects/aws_redshift/Data_Generation/Company_Employee_Details/benefit.csv\")\n",
    "df_performance_review = pd.read_csv(\"/Users/aiwin/Documents/Projects/aws_redshift/Data_Generation/Company_Employee_Details/performance_reviews.csv\")\n",
    "df_salary_history = pd.read_csv(\"/Users/aiwin/Documents/Projects/aws_redshift/Data_Generation/Company_Employee_Details/salary_history.csv\")\n"
   ]
  }
 ],
 "metadata": {
  "kernelspec": {
   "display_name": "base3.9",
   "language": "python",
   "name": "python3"
  },
  "language_info": {
   "codemirror_mode": {
    "name": "ipython",
    "version": 3
   },
   "file_extension": ".py",
   "mimetype": "text/x-python",
   "name": "python",
   "nbconvert_exporter": "python",
   "pygments_lexer": "ipython3",
   "version": "3.9.20"
  }
 },
 "nbformat": 4,
 "nbformat_minor": 2
}
